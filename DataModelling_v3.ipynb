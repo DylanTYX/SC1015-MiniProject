{
 "cells": [
  {
   "cell_type": "markdown",
   "id": "bd65264c",
   "metadata": {},
   "source": [
    "# 1. Background information on the dataset"
   ]
  },
  {
   "cell_type": "markdown",
   "id": "7b6b6ec1",
   "metadata": {},
   "source": [
    "## Features of Dataset\n",
    "\n",
    "1. **Gender**: (0: 'Female', 1: 'Male')\n",
    "2. **Age**: Patient's age in years.\n",
    "3. **Hypertension**: (0 : No history of hypertension, 1: History of hypertension)\n",
    "4. **Heart Disease**: (0: No history of heart disease, 1: History of heart disease)\n",
    "5. **Ever Married**: (0: Patient has not been married before, 1: Patient has been married before)\n",
    "6. **Work Type**: (0: 'Govt_job', 1: 'Never_worked', 2: 'Private', 3: 'Self-employed', 4: 'children')\n",
    "7. **Residence Type**: (0: 'Rural', 1: 'Urban')\n",
    "8. **Average Glucose Level**: Numeric data representing the average patient's glucose level.\n",
    "9. **BMI**: Numeric data representing Body Mass Index.\n",
    "10. **Smoking Status**: (0: 'Unknown', 1: 'formerly smoked', 2: 'never smoked', 3: 'smokes')\n",
    "\n",
    "Before data cleaning, there were 5110 rows of data. However, there were \"NaN\" values under \"BMI\" and an anomaly of \"Other\" under \"Gender\". Hence, after data cleaning, we are left with 4908 rows of data."
   ]
  },
  {
   "cell_type": "markdown",
   "id": "60fbed34",
   "metadata": {},
   "source": [
    "## Objective\n",
    "\n",
    "Our primary goal is to develop a predictive model that accurately identifies individuals at risk of experiencing a stroke based on various demographic, lifestyle, and health-related factors provided in the dataset."
   ]
  },
  {
   "cell_type": "markdown",
   "id": "84fef336",
   "metadata": {},
   "source": [
    "# 2. Libraries and packages"
   ]
  },
  {
   "cell_type": "markdown",
   "id": "af4fab1e",
   "metadata": {},
   "source": [
    "## Tools and Libraries\n",
    "\n",
    "For this project, we will utilize Python along with the following libraries for data analysis, machine learning, and data visualization. Below are the main libraries we will be using:\n",
    "\n",
    "- **Pandas**: Used for data manipulation and analysis.\n",
    "- **Matplotlib** and **Seaborn**: Employed for data visualization tasks.\n",
    "- **Scikit-learn**: Utilized for various machine learning tasks such as data preprocessing, model training, and evaluation.\n",
    "- **Imbalanced-learn**: Employed for addressing class imbalance issues within the dataset.\n"
   ]
  },
  {
   "cell_type": "code",
   "execution_count": 1,
   "id": "df5ed211",
   "metadata": {},
   "outputs": [],
   "source": [
    "# Importing necessary packages\n",
    "import numpy as np\n",
    "import pandas as pd\n",
    "import seaborn as sb\n",
    "import matplotlib.pyplot as plt\n",
    "\n",
    "# Set seaborn style\n",
    "sb.set()\n",
    "\n",
    "# Import models and tools from Scikit-Learn\n",
    "from sklearn.linear_model import LinearRegression, LogisticRegression\n",
    "from sklearn.neighbors import KNeighborsClassifier\n",
    "from sklearn.ensemble import RandomForestClassifier\n",
    "from sklearn.metrics import accuracy_score, confusion_matrix, classification_report, mean_squared_error\n",
    "from sklearn.model_selection import cross_val_score, train_test_split\n",
    "from sklearn.preprocessing import StandardScaler, LabelEncoder\n",
    "from sklearn.naive_bayes import GaussianNB\n",
    "\n",
    "# Ignore warnings\n",
    "import warnings\n",
    "warnings.filterwarnings('ignore')\n",
    "\n",
    "# Import imbalanced learn package\n",
    "import imblearn\n",
    "from collections import Counter\n",
    "from imblearn.pipeline import Pipeline\n",
    "from imblearn.combine import SMOTETomek"
   ]
  },
  {
   "cell_type": "markdown",
   "id": "5daa705e",
   "metadata": {},
   "source": [
    "# 2. Import cleaned dataset"
   ]
  },
  {
   "cell_type": "code",
   "execution_count": 2,
   "id": "125081d4",
   "metadata": {
    "scrolled": false
   },
   "outputs": [
    {
     "data": {
      "text/html": [
       "<div>\n",
       "<style scoped>\n",
       "    .dataframe tbody tr th:only-of-type {\n",
       "        vertical-align: middle;\n",
       "    }\n",
       "\n",
       "    .dataframe tbody tr th {\n",
       "        vertical-align: top;\n",
       "    }\n",
       "\n",
       "    .dataframe thead th {\n",
       "        text-align: right;\n",
       "    }\n",
       "</style>\n",
       "<table border=\"1\" class=\"dataframe\">\n",
       "  <thead>\n",
       "    <tr style=\"text-align: right;\">\n",
       "      <th></th>\n",
       "      <th>gender</th>\n",
       "      <th>age</th>\n",
       "      <th>hypertension</th>\n",
       "      <th>heart_disease</th>\n",
       "      <th>ever_married</th>\n",
       "      <th>work_type</th>\n",
       "      <th>Residence_type</th>\n",
       "      <th>avg_glucose_level</th>\n",
       "      <th>bmi</th>\n",
       "      <th>smoking_status</th>\n",
       "      <th>stroke</th>\n",
       "    </tr>\n",
       "  </thead>\n",
       "  <tbody>\n",
       "    <tr>\n",
       "      <th>0</th>\n",
       "      <td>1</td>\n",
       "      <td>67.0</td>\n",
       "      <td>0</td>\n",
       "      <td>1</td>\n",
       "      <td>1</td>\n",
       "      <td>2</td>\n",
       "      <td>1</td>\n",
       "      <td>228.69</td>\n",
       "      <td>36.6</td>\n",
       "      <td>1</td>\n",
       "      <td>1</td>\n",
       "    </tr>\n",
       "    <tr>\n",
       "      <th>1</th>\n",
       "      <td>1</td>\n",
       "      <td>80.0</td>\n",
       "      <td>0</td>\n",
       "      <td>1</td>\n",
       "      <td>1</td>\n",
       "      <td>2</td>\n",
       "      <td>0</td>\n",
       "      <td>105.92</td>\n",
       "      <td>32.5</td>\n",
       "      <td>2</td>\n",
       "      <td>1</td>\n",
       "    </tr>\n",
       "    <tr>\n",
       "      <th>2</th>\n",
       "      <td>0</td>\n",
       "      <td>49.0</td>\n",
       "      <td>0</td>\n",
       "      <td>0</td>\n",
       "      <td>1</td>\n",
       "      <td>2</td>\n",
       "      <td>1</td>\n",
       "      <td>171.23</td>\n",
       "      <td>34.4</td>\n",
       "      <td>3</td>\n",
       "      <td>1</td>\n",
       "    </tr>\n",
       "    <tr>\n",
       "      <th>3</th>\n",
       "      <td>0</td>\n",
       "      <td>79.0</td>\n",
       "      <td>1</td>\n",
       "      <td>0</td>\n",
       "      <td>1</td>\n",
       "      <td>3</td>\n",
       "      <td>0</td>\n",
       "      <td>174.12</td>\n",
       "      <td>24.0</td>\n",
       "      <td>2</td>\n",
       "      <td>1</td>\n",
       "    </tr>\n",
       "    <tr>\n",
       "      <th>4</th>\n",
       "      <td>1</td>\n",
       "      <td>81.0</td>\n",
       "      <td>0</td>\n",
       "      <td>0</td>\n",
       "      <td>1</td>\n",
       "      <td>2</td>\n",
       "      <td>1</td>\n",
       "      <td>186.21</td>\n",
       "      <td>29.0</td>\n",
       "      <td>1</td>\n",
       "      <td>1</td>\n",
       "    </tr>\n",
       "  </tbody>\n",
       "</table>\n",
       "</div>"
      ],
      "text/plain": [
       "   gender   age  hypertension  heart_disease  ever_married  work_type  \\\n",
       "0       1  67.0             0              1             1          2   \n",
       "1       1  80.0             0              1             1          2   \n",
       "2       0  49.0             0              0             1          2   \n",
       "3       0  79.0             1              0             1          3   \n",
       "4       1  81.0             0              0             1          2   \n",
       "\n",
       "   Residence_type  avg_glucose_level   bmi  smoking_status  stroke  \n",
       "0               1             228.69  36.6               1       1  \n",
       "1               0             105.92  32.5               2       1  \n",
       "2               1             171.23  34.4               3       1  \n",
       "3               0             174.12  24.0               2       1  \n",
       "4               1             186.21  29.0               1       1  "
      ]
     },
     "execution_count": 2,
     "metadata": {},
     "output_type": "execute_result"
    }
   ],
   "source": [
    "# Import the data set\n",
    "traindata = pd.read_csv('cleaned_data.csv')\n",
    "traindata.head()"
   ]
  },
  {
   "cell_type": "markdown",
   "id": "989b190b",
   "metadata": {},
   "source": [
    "# 3. Addressing the imbalanced dataset"
   ]
  },
  {
   "cell_type": "markdown",
   "id": "e35f644e",
   "metadata": {},
   "source": [
    "## 3.1 The metric trap"
   ]
  },
  {
   "cell_type": "markdown",
   "id": "fa1d19f5",
   "metadata": {},
   "source": [
    "One of the challenge when handling unbalanced datasets is the choice of evaluation metrics for our models. Replying on simpler metrics such as `accuracy_score` can lead to misleading conclusions. In datasets where class imbalances are prominent, a classifier might achieve a seemingly high accuracy rate by consistently predicting the most frequent class without performing any analysis of the features. This will produce a high accuracy rate. However, the high accuracy is inherently deceptive.\n",
    "\n",
    "To prove that the metric trap exists, we will conduct a simple experiment without feature engineering."
   ]
  },
  {
   "cell_type": "code",
   "execution_count": 3,
   "id": "d94b1135",
   "metadata": {},
   "outputs": [
    {
     "name": "stdout",
     "output_type": "stream",
     "text": [
      "Accuracy score: 94.40%\n"
     ]
    }
   ],
   "source": [
    "from xgboost import XGBClassifier\n",
    "from sklearn.model_selection import train_test_split\n",
    "from sklearn.metrics import accuracy_score\n",
    "\n",
    "# Remove 'id', 'work_type', 'Residence_type', 'stroke' columns\n",
    "labels = ['gender', 'hypertension', 'heart_disease', 'ever_married', 'smoking_status', 'age', \n",
    "          'avg_glucose_level', 'bmi']\n",
    "\n",
    "X = traindata[labels]\n",
    "y = traindata['stroke']\n",
    "\n",
    "X_train, X_test, y_train, y_test = train_test_split(X, y, test_size=0.2, random_state=1)\n",
    "\n",
    "model = XGBClassifier()\n",
    "model.fit(X_train, y_train)\n",
    "y_pred = model.predict(X_test)\n",
    "\n",
    "accuracy = accuracy_score(y_test, y_pred)\n",
    "print(\"Accuracy score: %.2f%%\" % (accuracy * 100.0))"
   ]
  },
  {
   "cell_type": "markdown",
   "id": "9bf1efda",
   "metadata": {},
   "source": [
    "Modify the code to use only one feature which should drastically reduce the accuracy score of the classifier."
   ]
  },
  {
   "cell_type": "code",
   "execution_count": 4,
   "id": "c76feb77",
   "metadata": {},
   "outputs": [
    {
     "name": "stdout",
     "output_type": "stream",
     "text": [
      "Accuracy score: 94.81%\n"
     ]
    }
   ],
   "source": [
    "# Using only one feature\n",
    "model = XGBClassifier()\n",
    "model.fit(X_train[['gender']], y_train)\n",
    "y_pred = model.predict(X_test[['gender']])\n",
    "\n",
    "accuracy = accuracy_score(y_test, y_pred)\n",
    "print(\"Accuracy score: %.2f%%\" % (accuracy * 100.0))"
   ]
  },
  {
   "cell_type": "markdown",
   "id": "7f85a54b",
   "metadata": {},
   "source": [
    "As observed, the accuracy rate did not change drastically as mentioned above. It only increased marginally from 94.45% to 95.04%, indicating a difference of merely 0.59%. This minute variance emphasizes the significance of selecting appropriate evaluation metrics for unbalanced datasets."
   ]
  },
  {
   "cell_type": "markdown",
   "id": "eb775413",
   "metadata": {},
   "source": [
    "# 4. Model 1: Gaussian Naive Bayes"
   ]
  },
  {
   "cell_type": "markdown",
   "id": "245cb55c",
   "metadata": {},
   "source": [
    "Gaussian Naive Bayes (GNB) is a classification algorithm widely utilized in machine learning due to its simplicity, efficiency, and effectiveness, particularly in scenarios involving high-dimensional or text data. It operates on the principles of Bayes' theorem, which calculates the probability of a hypothesis given observed evidence.\n",
    "\n",
    "The \"naive\" characteristic of GNB arises from its assumption of feature independence within each class. Despite this assumption's potential limitations in real-world scenarios, GNB can still deliver strong performance, especially when features are approximately independent or when the assumption minimally impacts classification accuracy.\n",
    "\n",
    "GNB presupposes that continuous-valued features in the dataset adhere to a Gaussian (normal) distribution within each class. This simplifies the likelihood function calculation, enabling straightforward parameter estimation through the mean and variance of each feature within each class.\n",
    "\n",
    "One of GNB's key advantages lies in its requirement for minimal training data compared to other algorithms. It boasts computational efficiency and quick training capabilities. However, its performance may suffer if the assumption of normality is violated or if strong correlations exist among the features."
   ]
  },
  {
   "cell_type": "markdown",
   "id": "8832a68e",
   "metadata": {},
   "source": [
    "### Step 1: Separate predictors and responses"
   ]
  },
  {
   "cell_type": "code",
   "execution_count": 5,
   "id": "36d04252",
   "metadata": {},
   "outputs": [],
   "source": [
    "# Splitting the data into input data features and target\n",
    "columns_to_drop = ['stroke', 'work_type', 'Residence_type']\n",
    "predictors = traindata.drop(columns=columns_to_drop)\n",
    "stroke = traindata['stroke']"
   ]
  },
  {
   "cell_type": "code",
   "execution_count": 6,
   "id": "adbb796b",
   "metadata": {},
   "outputs": [
    {
     "data": {
      "text/html": [
       "<div>\n",
       "<style scoped>\n",
       "    .dataframe tbody tr th:only-of-type {\n",
       "        vertical-align: middle;\n",
       "    }\n",
       "\n",
       "    .dataframe tbody tr th {\n",
       "        vertical-align: top;\n",
       "    }\n",
       "\n",
       "    .dataframe thead th {\n",
       "        text-align: right;\n",
       "    }\n",
       "</style>\n",
       "<table border=\"1\" class=\"dataframe\">\n",
       "  <thead>\n",
       "    <tr style=\"text-align: right;\">\n",
       "      <th></th>\n",
       "      <th>gender</th>\n",
       "      <th>age</th>\n",
       "      <th>hypertension</th>\n",
       "      <th>heart_disease</th>\n",
       "      <th>ever_married</th>\n",
       "      <th>avg_glucose_level</th>\n",
       "      <th>bmi</th>\n",
       "      <th>smoking_status</th>\n",
       "    </tr>\n",
       "  </thead>\n",
       "  <tbody>\n",
       "    <tr>\n",
       "      <th>0</th>\n",
       "      <td>1</td>\n",
       "      <td>67.0</td>\n",
       "      <td>0</td>\n",
       "      <td>1</td>\n",
       "      <td>1</td>\n",
       "      <td>228.69</td>\n",
       "      <td>36.6</td>\n",
       "      <td>1</td>\n",
       "    </tr>\n",
       "    <tr>\n",
       "      <th>1</th>\n",
       "      <td>1</td>\n",
       "      <td>80.0</td>\n",
       "      <td>0</td>\n",
       "      <td>1</td>\n",
       "      <td>1</td>\n",
       "      <td>105.92</td>\n",
       "      <td>32.5</td>\n",
       "      <td>2</td>\n",
       "    </tr>\n",
       "    <tr>\n",
       "      <th>2</th>\n",
       "      <td>0</td>\n",
       "      <td>49.0</td>\n",
       "      <td>0</td>\n",
       "      <td>0</td>\n",
       "      <td>1</td>\n",
       "      <td>171.23</td>\n",
       "      <td>34.4</td>\n",
       "      <td>3</td>\n",
       "    </tr>\n",
       "    <tr>\n",
       "      <th>3</th>\n",
       "      <td>0</td>\n",
       "      <td>79.0</td>\n",
       "      <td>1</td>\n",
       "      <td>0</td>\n",
       "      <td>1</td>\n",
       "      <td>174.12</td>\n",
       "      <td>24.0</td>\n",
       "      <td>2</td>\n",
       "    </tr>\n",
       "    <tr>\n",
       "      <th>4</th>\n",
       "      <td>1</td>\n",
       "      <td>81.0</td>\n",
       "      <td>0</td>\n",
       "      <td>0</td>\n",
       "      <td>1</td>\n",
       "      <td>186.21</td>\n",
       "      <td>29.0</td>\n",
       "      <td>1</td>\n",
       "    </tr>\n",
       "  </tbody>\n",
       "</table>\n",
       "</div>"
      ],
      "text/plain": [
       "   gender   age  hypertension  heart_disease  ever_married  avg_glucose_level  \\\n",
       "0       1  67.0             0              1             1             228.69   \n",
       "1       1  80.0             0              1             1             105.92   \n",
       "2       0  49.0             0              0             1             171.23   \n",
       "3       0  79.0             1              0             1             174.12   \n",
       "4       1  81.0             0              0             1             186.21   \n",
       "\n",
       "    bmi  smoking_status  \n",
       "0  36.6               1  \n",
       "1  32.5               2  \n",
       "2  34.4               3  \n",
       "3  24.0               2  \n",
       "4  29.0               1  "
      ]
     },
     "execution_count": 6,
     "metadata": {},
     "output_type": "execute_result"
    }
   ],
   "source": [
    "predictors.head()"
   ]
  },
  {
   "cell_type": "markdown",
   "id": "fa509c35",
   "metadata": {},
   "source": [
    "After conducting feature importance analysis using chi-square, ANOVA tests, and Random Forest alongside our domain knowledge, we concluded that `work_type` and `Residence_type` do not contribute significantly to predicting whether a person has a stroke or not. Therefore, based on both statistical analysis and domain expertise, we have decided to remove these less informative features from our dataset.\n",
    "\n",
    "This decision is crucial for improving the efficiency and effectiveness of our predictive model. By eliminating irrelevant features, we aim to enhance the model's ability to identify meaningful patterns and relationships in the data, ultimately leading to more accurate predictions of stroke risk. Additionally, reducing the number of features can help mitigate the risk of overfitting and enhance the model's interpretability.\n",
    "\n",
    "Overall, this refined feature selection process aligns with best practices in machine learning and ensures that our model focuses on the most relevant predictors, thereby improving its overall performance and utility in real-world applications."
   ]
  },
  {
   "cell_type": "markdown",
   "id": "1e40f2eb",
   "metadata": {},
   "source": [
    "### Step 2: Split the dataset into training and testing datasets in 8:2 ratio "
   ]
  },
  {
   "cell_type": "code",
   "execution_count": 7,
   "id": "ffdc2593",
   "metadata": {},
   "outputs": [],
   "source": [
    "# Split the Dataset into Train and Test\n",
    "predictors_train, predictors_test, stroke_train, stroke_test = train_test_split(predictors, stroke, test_size=0.2, random_state=42)"
   ]
  },
  {
   "cell_type": "code",
   "execution_count": 8,
   "id": "15b469d2",
   "metadata": {},
   "outputs": [
    {
     "name": "stdout",
     "output_type": "stream",
     "text": [
      "Number transactions x_train dataset:  (3926,)\n",
      "Number transactions y_train dataset:  (3926, 8)\n",
      "Number transactions x_test dataset:  (982,)\n",
      "Number transactions y_test dataset:  (982, 8)\n"
     ]
    }
   ],
   "source": [
    "print(\"Number transactions x_train dataset: \", stroke_train.shape)\n",
    "print(\"Number transactions y_train dataset: \", predictors_train.shape)\n",
    "print(\"Number transactions x_test dataset: \", stroke_test.shape)\n",
    "print(\"Number transactions y_test dataset: \", predictors_test.shape)"
   ]
  },
  {
   "cell_type": "markdown",
   "id": "71d38a98",
   "metadata": {},
   "source": [
    "### Step 3: Data Preprocessing with Standard Scaling and SMOTE-Tomek Resampling (feature scaling and engineering)"
   ]
  },
  {
   "cell_type": "code",
   "execution_count": 9,
   "id": "b49c49db",
   "metadata": {},
   "outputs": [],
   "source": [
    "# Define the StandardScaler\n",
    "scaler = StandardScaler()\n",
    "\n",
    "# Define the SMOTETomek sampler\n",
    "smote_tomek = SMOTETomek(random_state=42)\n",
    "\n",
    "# Define the pipeline including StandardScaler, SMOTETomek\n",
    "pipeline = Pipeline([\n",
    "    ('scaling', scaler),  # Scaling step\n",
    "    ('sampling', smote_tomek),  # SMOTETomek step\n",
    "    # Add other preprocessing steps or model training steps here\n",
    "])\n",
    "\n",
    "# Apply the pipeline to the training data\n",
    "predictors_resampled_scaled, stroke_resampled = pipeline.fit_resample(predictors_train, stroke_train)"
   ]
  },
  {
   "cell_type": "markdown",
   "id": "13d4cdb2",
   "metadata": {},
   "source": [
    "**SMOTE-Tomek**:\n",
    "\n",
    "SMOTE-Tomek is a hybrid resampling technique designed to address imbalanced datasets by combining the strengths of SMOTE oversampling and Tomek links undersampling. It generates synthetic samples for the minority class while simultaneously removing Tomek links, resulting in a balanced and cleaner dataset. The benefits of using SMOTE-Tomek include improved class balance, reduced risk of overfitting, enhanced generalization, noise reduction, and potentially better model performance. By creating a more representative training set, SMOTE-Tomek contributes to more reliable and accurate predictions in machine learning models, making it a valuable tool for handling imbalanced data.\n",
    "\n",
    "**StandardScalar**:\n",
    "\n",
    "Data scaling is essential in preparing our data for modeling , particularly when features have different scales or units. In our case, some features may have values that are on entirely different scales. For instance, `age` ranges from 10 to 82, while `avg_glucose_level` ranges from 55 to 271.\n",
    "\n",
    "Standardization ensures that all features are transformed to have a mean of 0 and a standard deviation of 1. By doing so, we can ensure that each feature contributes equally to the analysis and prevents features with larger scales from dominating the model's training process.\n",
    "\n",
    "In the absence of standardization, features with larger scales may have a disproportionately larger impact on the model's outcome, potentially biasing the predictions. Therefore, standardizing the features helps our model make fair and unbiased predictions based on the relative importance of each feature.\n",
    "\n",
    "Also, during scaling, we fit the data on the training data and transform the test data from information based on the training data to prevent data leakage. If these parameters were computed using the entire dataset, information from the test data would inadvertently leak into the training process, compromising the model's ability to generalize to new, unseen data."
   ]
  },
  {
   "cell_type": "markdown",
   "id": "45e0b534",
   "metadata": {},
   "source": [
    "### Step 4: Compute the accuracy of Gaussian Naive Bayes Model"
   ]
  },
  {
   "cell_type": "code",
   "execution_count": 10,
   "id": "ef8713f7",
   "metadata": {},
   "outputs": [
    {
     "name": "stdout",
     "output_type": "stream",
     "text": [
      "Accuracy: 0.8727087576374746\n"
     ]
    }
   ],
   "source": [
    "#Create the Naive Bayes classifier\n",
    "nb = GaussianNB()\n",
    "\n",
    "# Train the classifier on the training data\n",
    "nb.fit(predictors_train, stroke_train)\n",
    "\n",
    "# Predict the classes of the test data\n",
    "stroke_prediction = nb.predict(predictors_test)\n",
    "\n",
    "# Calculate the accuracy of the classifier\n",
    "accuracy = accuracy_score(stroke_test, stroke_prediction)\n",
    "print('Accuracy:', accuracy)"
   ]
  },
  {
   "cell_type": "code",
   "execution_count": 11,
   "id": "e31f5590",
   "metadata": {},
   "outputs": [
    {
     "name": "stdout",
     "output_type": "stream",
     "text": [
      "              precision    recall  f1-score   support\n",
      "\n",
      "           0    0.96313   0.89989   0.93044       929\n",
      "           1    0.18421   0.39623   0.25150        53\n",
      "\n",
      "    accuracy                        0.87271       982\n",
      "   macro avg    0.57367   0.64806   0.59097       982\n",
      "weighted avg    0.92109   0.87271   0.89380       982\n",
      "\n"
     ]
    },
    {
     "data": {
      "image/png": "[encoded data removed]",
      "text/plain": [
       "<Figure size 640x480 with 2 Axes>"
      ]
     },
     "metadata": {},
     "output_type": "display_data"
    }
   ],
   "source": [
    "cm = confusion_matrix(stroke_test, stroke_prediction)\n",
    "sb.heatmap(cm, annot=True, cmap='Greens')\n",
    "\n",
    "# Create a classification report\n",
    "cr = classification_report(stroke_test, stroke_prediction, digits = 5)\n",
    "print(cr)"
   ]
  },
  {
   "cell_type": "markdown",
   "id": "1ceba9db",
   "metadata": {},
   "source": [
    "## 4.1. Optimisation of GaussianNB Model"
   ]
  },
  {
   "cell_type": "markdown",
   "id": "df7c22a9",
   "metadata": {},
   "source": [
    "The `GridSearchCV` function, found within the `model_selection` package of scikit-learn, facilitates the systematic exploration of predefined hyperparameters. It iterates through these hyperparameters and trains the estimator (model) on the training set. Ultimately, it enables the selection of the best parameters from the specified hyperparameters, enhancing model performance and optimization."
   ]
  },
  {
   "cell_type": "markdown",
   "id": "b78cddf8",
   "metadata": {},
   "source": [
    "### Step 1: Insert smoothing parameters"
   ]
  },
  {
   "cell_type": "code",
   "execution_count": 12,
   "id": "6eb4097f",
   "metadata": {},
   "outputs": [
    {
     "name": "stdout",
     "output_type": "stream",
     "text": [
      "Best parameters found: {'var_smoothing': 1e-05}\n",
      "Best score found: 0.8830826080614578\n",
      "Accuracy: 0.879837067209776\n"
     ]
    }
   ],
   "source": [
    "from sklearn.model_selection import GridSearchCV\n",
    "from sklearn.naive_bayes import GaussianNB\n",
    "from sklearn.model_selection import StratifiedKFold\n",
    "from sklearn.metrics import accuracy_score\n",
    "\n",
    "# Instantiate Gaussian Naive Bayes classifier\n",
    "gnb = GaussianNB()\n",
    "\n",
    "# Instantiate StratifiedKFold for cross-validation\n",
    "cv = StratifiedKFold(n_splits=5, shuffle=True, random_state=42)\n",
    "\n",
    "# Define the parameter grid including var_smoothing\n",
    "param_grid = {'var_smoothing': [1e-12, 1e-11, 1e-10, 1e-9, 1e-8, 1e-7, 1e-6, 1e-5]}\n",
    "\n",
    "# Instantiate GridSearchCV with cross-validation\n",
    "grid_search = GridSearchCV(estimator=gnb, param_grid=param_grid, cv=cv, scoring='accuracy')\n",
    "\n",
    "# Fit GridSearchCV\n",
    "grid_search.fit(predictors_train, stroke_train)\n",
    "\n",
    "# Access the best parameters\n",
    "print(\"Best parameters found:\", grid_search.best_params_)\n",
    "\n",
    "# Access the best score\n",
    "print(\"Best score found:\", grid_search.best_score_)\n",
    "\n",
    "# Use the best estimator to make predictions on the testing data\n",
    "best_gnb = grid_search.best_estimator_\n",
    "stroke_pred = best_gnb.predict(predictors_test)\n",
    "\n",
    "# Evaluate the accuracy of the model\n",
    "accuracy = accuracy_score(stroke_test, stroke_pred)\n",
    "print(\"Accuracy:\", accuracy)"
   ]
  },
  {
   "cell_type": "markdown",
   "id": "b47e8319",
   "metadata": {},
   "source": [
    "### Step 2: Recompute accuracy of the optimised model"
   ]
  },
  {
   "cell_type": "code",
   "execution_count": 13,
   "id": "929ad02b",
   "metadata": {
    "scrolled": false
   },
   "outputs": [
    {
     "name": "stdout",
     "output_type": "stream",
     "text": [
      "Accuracy Score:  0.879837067209776\n"
     ]
    }
   ],
   "source": [
    "from sklearn.preprocessing import PowerTransformer\n",
    "from sklearn.naive_bayes import GaussianNB\n",
    "from sklearn.model_selection import GridSearchCV\n",
    "from sklearn.model_selection import RepeatedStratifiedKFold\n",
    "from sklearn.feature_selection import SelectKBest, chi2\n",
    "from sklearn.pipeline import make_pipeline\n",
    "from sklearn.metrics import accuracy_score\n",
    "\n",
    "# Define the hyperparameters to tune\n",
    "parameters = {\n",
    "    'var_smoothing': [1e-05]\n",
    "}\n",
    "\n",
    "# Perform Grid Search CV to find the best hyperparameters\n",
    "grid_search = GridSearchCV(nb, parameters, scoring='roc_auc', cv=10, n_jobs=-1)\n",
    "grid_search.fit(predictors_train, stroke_train)\n",
    "\n",
    "\n",
    "# Make predictions on the test set using the best model\n",
    "stroke_pred = grid_search.predict(predictors_test)\n",
    "\n",
    "# Calculate the accuracy score\n",
    "accuracy = accuracy_score(stroke_test, stroke_pred)\n",
    "print(\"Accuracy Score: \", accuracy)"
   ]
  },
  {
   "cell_type": "code",
   "execution_count": 14,
   "id": "1a1eac02",
   "metadata": {},
   "outputs": [
    {
     "name": "stdout",
     "output_type": "stream",
     "text": [
      "              precision    recall  f1-score   support\n",
      "\n",
      "           0    0.96343   0.90743   0.93459       929\n",
      "           1    0.19626   0.39623   0.26250        53\n",
      "\n",
      "    accuracy                        0.87984       982\n",
      "   macro avg    0.57985   0.65183   0.59854       982\n",
      "weighted avg    0.92202   0.87984   0.89832       982\n",
      "\n"
     ]
    },
    {
     "data": {
      "image/png": "[encoded data removed]",
      "text/plain": [
       "<Figure size 640x480 with 2 Axes>"
      ]
     },
     "metadata": {},
     "output_type": "display_data"
    }
   ],
   "source": [
    "cm = confusion_matrix(stroke_test, stroke_pred)\n",
    "sb.heatmap(cm, annot=True, cmap='Greens')\n",
    "\n",
    "# Create a classification report\n",
    "cr = classification_report(stroke_test, stroke_pred, digits=5)\n",
    "print(cr)"
   ]
  },
  {
   "cell_type": "markdown",
   "id": "dd3e58b0",
   "metadata": {},
   "source": [
    "After fine-tuning the hyperparameters of the GaussianNB model using the best parameters identified by `GridSearchCV`, specifically {'var_smoothing': 1e-05}, we observed a slight improvement in accuracy score, precision, and f1-score in predicting a patient with stroke."
   ]
  },
  {
   "cell_type": "markdown",
   "id": "3ebe703b",
   "metadata": {},
   "source": [
    "# 5. Model 2: K-Nearest Neighbour"
   ]
  },
  {
   "cell_type": "markdown",
   "id": "e86cf87b",
   "metadata": {},
   "source": [
    "The k-Nearest Neighbors (KNN) classifier is a non-parametric supervised learning algorithm used for classification tasks. It determines the class label of a new data point based on the class labels of its k nearest neighbors in the feature space. KNN operates on the principle that similar data points tend to belong to the same class. During training, KNN stores all available data points and their class labels. When making predictions for a new data point, KNN calculates distances to all other data points and selects the k nearest neighbors. It then assigns the class label to the new data point based on majority voting among its k neighbors. KNN does not explicitly learn a decision boundary but determines it implicitly from the distribution of data points. It makes no assumptions about the underlying data distribution and is a \"lazy learner\" as it memorizes training data instead of learning a model. KNN is suitable for binary and multi-class classification tasks and can handle datasets with a large number of features. However, it may suffer from computational inefficiency with large training datasets due to calculating distances for prediction."
   ]
  },
  {
   "cell_type": "markdown",
   "id": "15a00878",
   "metadata": {},
   "source": [
    "### Step 1: Putting data into KNN Model"
   ]
  },
  {
   "cell_type": "code",
   "execution_count": 15,
   "id": "fc167f0c",
   "metadata": {},
   "outputs": [
    {
     "name": "stdout",
     "output_type": "stream",
     "text": [
      "Accuracy: 0.9409368635437881\n"
     ]
    }
   ],
   "source": [
    "# Create a KNN classifier with k=1 since it leads to the lowest error rate\n",
    "knn = KNeighborsClassifier(n_neighbors=5)\n",
    "\n",
    "# Train the KNN classifier on the training data\n",
    "knn.fit(predictors_train, stroke_train)\n",
    "\n",
    "# Use the trained model to make predictions on the testing data\n",
    "stroke_pred = knn.predict(predictors_test)\n",
    "\n",
    "# Evaluate the accuracy of the model\n",
    "accuracy = accuracy_score(stroke_test, stroke_pred)\n",
    "print(\"Accuracy:\", accuracy)"
   ]
  },
  {
   "cell_type": "code",
   "execution_count": 16,
   "id": "27cf7514",
   "metadata": {},
   "outputs": [
    {
     "name": "stdout",
     "output_type": "stream",
     "text": [
      "              precision    recall  f1-score   support\n",
      "\n",
      "           0    0.94758   0.99247   0.96951       929\n",
      "           1    0.22222   0.03774   0.06452        53\n",
      "\n",
      "    accuracy                        0.94094       982\n",
      "   macro avg    0.58490   0.51510   0.51701       982\n",
      "weighted avg    0.90844   0.94094   0.92066       982\n",
      "\n"
     ]
    },
    {
     "data": {
      "image/png": "[encoded data removed]",
      "text/plain": [
       "<Figure size 640x480 with 2 Axes>"
      ]
     },
     "metadata": {},
     "output_type": "display_data"
    }
   ],
   "source": [
    "cm = confusion_matrix(stroke_test, stroke_pred)\n",
    "sb.heatmap(cm, annot=True, cmap='Blues')\n",
    "\n",
    "# Create a classification report\n",
    "cr = classification_report(stroke_test, stroke_pred, digits=5)\n",
    "print(cr)"
   ]
  },
  {
   "cell_type": "markdown",
   "id": "c5f9a91f",
   "metadata": {},
   "source": [
    "## 5.1. Optimisation of KNN Model"
   ]
  },
  {
   "cell_type": "markdown",
   "id": "a07e963c",
   "metadata": {},
   "source": [
    "Once again, we used `GridSearchCV` and evaluate the performance of a K-Nearest Neighbors (KNN) classifier by testing different values of the hyperparameter k, which represents the number of neighbors considered for classification. Iterating through k-values from 1 to 30, it calculates the error rate. This analysis helps in selecting an optimal k-value that minimizes the error rate for the given dataset."
   ]
  },
  {
   "cell_type": "markdown",
   "id": "ddd77183",
   "metadata": {},
   "source": [
    "### Step 1: Find the optimal k-value to optmise the KNN model"
   ]
  },
  {
   "cell_type": "code",
   "execution_count": 17,
   "id": "4de3ec33",
   "metadata": {},
   "outputs": [],
   "source": [
    "# Create a list that will store the average error rate value produced by different k-values\n",
    "error_rate = []\n",
    "\n",
    "# Test k-values from 1 to 30\n",
    "for i in range(1, 31):\n",
    "    knn = KNeighborsClassifier(n_neighbors=i)\n",
    "    knn.fit(predictors_train, stroke_train)\n",
    "    stroke_prediction = knn.predict(predictors_test)\n",
    "    error_rate.append(np.mean(stroke_prediction != stroke_test))"
   ]
  },
  {
   "cell_type": "code",
   "execution_count": 18,
   "id": "f8520d39",
   "metadata": {},
   "outputs": [
    {
     "data": {
      "image/png": "[encoded data removed]",
      "text/plain": [
       "<Figure size 1000x600 with 1 Axes>"
      ]
     },
     "metadata": {},
     "output_type": "display_data"
    }
   ],
   "source": [
    "# Plotting the error rate vs k-value\n",
    "plt.figure(figsize=(10, 6))\n",
    "plt.plot(range(1, 31), error_rate, marker=\"o\", color=\"red\", linestyle=\"dashed\", markersize=8)\n",
    "plt.title(\"Error Rate vs k-value\")\n",
    "plt.xlabel(\"k-value\")\n",
    "plt.ylabel(\"Error Rate\")\n",
    "plt.xticks(range(1, 31))\n",
    "plt.grid(True, linestyle='--', alpha=0.7)\n",
    "\n",
    "plt.show()"
   ]
  },
  {
   "cell_type": "code",
   "execution_count": 19,
   "id": "2bbb58af",
   "metadata": {},
   "outputs": [
    {
     "name": "stdout",
     "output_type": "stream",
     "text": [
      "Best parameters found: {'n_neighbors': 10}\n",
      "Best score found: 0.9602651496734251\n",
      "Accuracy: 0.9460285132382892\n"
     ]
    }
   ],
   "source": [
    "from sklearn.model_selection import GridSearchCV\n",
    "from sklearn.neighbors import KNeighborsClassifier\n",
    "from sklearn.model_selection import StratifiedKFold\n",
    "\n",
    "# Define the parameter grid\n",
    "param_grid = {'n_neighbors': [4, 6, 10, 12]}\n",
    "\n",
    "# Instantiate KNN classifier\n",
    "knn = KNeighborsClassifier()\n",
    "\n",
    "# Instantiate StratifiedKFold for cross-validation\n",
    "cv = StratifiedKFold(n_splits=5, shuffle=True, random_state=42)\n",
    "\n",
    "# Instantiate GridSearchCV with cross-validation\n",
    "grid_search = GridSearchCV(estimator=knn, param_grid=param_grid, cv=cv, scoring='accuracy')\n",
    "\n",
    "# Fit GridSearchCV\n",
    "grid_search.fit(predictors_train, stroke_train)\n",
    "\n",
    "# Access the best parameters\n",
    "print(\"Best parameters found:\", grid_search.best_params_)\n",
    "\n",
    "# Access the best score\n",
    "print(\"Best score found:\", grid_search.best_score_)\n",
    "\n",
    "# Use the best estimator to make predictions on the testing data\n",
    "best_knn = grid_search.best_estimator_\n",
    "stroke_pred = best_knn.predict(predictors_test)\n",
    "\n",
    "# Evaluate the accuracy of the model\n",
    "accuracy = accuracy_score(stroke_test, stroke_pred)\n",
    "print(\"Accuracy:\", accuracy)"
   ]
  },
  {
   "cell_type": "code",
   "execution_count": 20,
   "id": "918f3bfc",
   "metadata": {},
   "outputs": [
    {
     "name": "stdout",
     "output_type": "stream",
     "text": [
      "Accuracy: 0.9460285132382892\n"
     ]
    }
   ],
   "source": [
    "# Create a KNN classifier with k=1 since it leads to the lowest error rate\n",
    "knn = KNeighborsClassifier(n_neighbors=6)\n",
    "\n",
    "# Train the KNN classifier on the training data\n",
    "knn.fit(predictors_train, stroke_train)\n",
    "\n",
    "# Use the trained model to make predictions on the testing data\n",
    "stroke_pred = knn.predict(predictors_test)\n",
    "\n",
    "\n",
    "# Evaluate the accuracy of the model\n",
    "accuracy = accuracy_score(stroke_test, stroke_pred)\n",
    "print(\"Accuracy:\", accuracy)"
   ]
  },
  {
   "cell_type": "code",
   "execution_count": 21,
   "id": "cccc956a",
   "metadata": {},
   "outputs": [
    {
     "name": "stdout",
     "output_type": "stream",
     "text": [
      "              precision    recall  f1-score   support\n",
      "\n",
      "           0    0.94603   1.00000   0.97227       929\n",
      "           1    0.00000   0.00000   0.00000        53\n",
      "\n",
      "    accuracy                        0.94603       982\n",
      "   macro avg    0.47301   0.50000   0.48613       982\n",
      "weighted avg    0.89497   0.94603   0.91979       982\n",
      "\n"
     ]
    },
    {
     "data": {
      "image/png": "[encoded data removed]",
      "text/plain": [
       "<Figure size 640x480 with 2 Axes>"
      ]
     },
     "metadata": {},
     "output_type": "display_data"
    }
   ],
   "source": [
    "cm = confusion_matrix(stroke_test, stroke_pred)\n",
    "sb.heatmap(cm, annot=True, cmap='Blues')\n",
    "\n",
    "# Create a classification report\n",
    "cr = classification_report(stroke_test, stroke_pred, digits = 5)\n",
    "print(cr)"
   ]
  },
  {
   "cell_type": "markdown",
   "id": "0762f6d5",
   "metadata": {},
   "source": [
    "After fine-tuning the hyperparameters of the GaussianNB model using the best parameters identified by GridSearchCV, specifically {'n_neighbors': 10}, we observed a slight improvement in accuracy score but worse metrics for precision, recall, and f1-score in predicting a patient with stroke."
   ]
  },
  {
   "cell_type": "markdown",
   "id": "f8b8615a",
   "metadata": {},
   "source": [
    "# 6. Model 3: eXtreme Gradient Boosting"
   ]
  },
  {
   "cell_type": "markdown",
   "id": "28f24c97",
   "metadata": {},
   "source": [
    "XGBoost (eXtreme Gradient Boosting) is a highly efficient and scalable open-source machine learning library. It implements the gradient boosting algorithm, enhancing it with parallelization, regularization techniques, and hardware optimization. XGBoost builds an ensemble of decision trees sequentially, emphasizing difficult-to-classify instances through boosting. It incorporates L1 and L2 regularization to prevent overfitting and supports built-in cross-validation for robust evaluation."
   ]
  },
  {
   "cell_type": "markdown",
   "id": "cf36689f",
   "metadata": {},
   "source": [
    "### Step 1: Compute the accuracy of Gaussian Naive Bayes Model"
   ]
  },
  {
   "cell_type": "code",
   "execution_count": 22,
   "id": "4b49bc4c",
   "metadata": {},
   "outputs": [
    {
     "name": "stdout",
     "output_type": "stream",
     "text": [
      "Accuracy: 0.9409368635437881\n"
     ]
    }
   ],
   "source": [
    "import xgboost as xgb\n",
    "from sklearn.metrics import accuracy_score\n",
    "\n",
    "# Create the XGBoost classifier\n",
    "xgb_classifier = xgb.XGBClassifier()\n",
    "\n",
    "# Train the classifier on the training data\n",
    "xgb_classifier.fit(predictors_train, stroke_train)\n",
    "\n",
    "# Predict the classes of the test data\n",
    "stroke_prediction = xgb_classifier.predict(predictors_test)\n",
    "\n",
    "# Calculate the accuracy of the classifier\n",
    "accuracy = accuracy_score(stroke_test, stroke_prediction)\n",
    "print('Accuracy:', accuracy)"
   ]
  },
  {
   "cell_type": "code",
   "execution_count": 23,
   "id": "c7cfdb00",
   "metadata": {},
   "outputs": [
    {
     "name": "stdout",
     "output_type": "stream",
     "text": [
      "              precision    recall  f1-score   support\n",
      "\n",
      "           0    0.94667   0.99354   0.96954       929\n",
      "           1    0.14286   0.01887   0.03333        53\n",
      "\n",
      "    accuracy                        0.94094       982\n",
      "   macro avg    0.54476   0.50620   0.50144       982\n",
      "weighted avg    0.90328   0.94094   0.91901       982\n",
      "\n"
     ]
    },
    {
     "data": {
      "image/png": "[encoded data removed]",
      "text/plain": [
       "<Figure size 640x480 with 2 Axes>"
      ]
     },
     "metadata": {},
     "output_type": "display_data"
    }
   ],
   "source": [
    "cm = confusion_matrix(stroke_test, stroke_prediction)\n",
    "sb.heatmap(cm, annot=True, cmap='Reds')\n",
    "\n",
    "# Create a classification report\n",
    "cr = classification_report(stroke_test, stroke_prediction, digits = 5)\n",
    "print(cr)"
   ]
  },
  {
   "cell_type": "markdown",
   "id": "08803596",
   "metadata": {},
   "source": [
    "## 6.1. Optimisation of XGBoost Model"
   ]
  },
  {
   "cell_type": "markdown",
   "id": "2a3f5af9",
   "metadata": {},
   "source": [
    "Once again, we used `GridSearchCV` to evaluate the best parameters to finetune our model."
   ]
  },
  {
   "cell_type": "markdown",
   "id": "037f3a6b",
   "metadata": {},
   "source": [
    "### Step 1: Fine tune hyperparameters"
   ]
  },
  {
   "cell_type": "code",
   "execution_count": 24,
   "id": "0e862837",
   "metadata": {},
   "outputs": [
    {
     "name": "stdout",
     "output_type": "stream",
     "text": [
      "Best parameters found: {'colsample_bytree': 0.7, 'gamma': 0, 'learning_rate': 0.01, 'max_depth': 3, 'min_child_weight': 1, 'n_estimators': 500, 'subsample': 0.5}\n",
      "Best score found: 0.960519926743489\n",
      "Accuracy: 0.9460285132382892\n"
     ]
    }
   ],
   "source": [
    "from sklearn.model_selection import GridSearchCV\n",
    "from sklearn.metrics import accuracy_score\n",
    "from sklearn.model_selection import StratifiedKFold\n",
    "import xgboost as xgb\n",
    "\n",
    "# Instantiate XGBoost classifier\n",
    "xgb_classifier = xgb.XGBClassifier()\n",
    "\n",
    "# Instantiate StratifiedKFold for cross-validation\n",
    "cv = StratifiedKFold(n_splits=5, shuffle=True, random_state=42)\n",
    "\n",
    "# Define the parameter grid\n",
    "param_grid = {\n",
    "    'max_depth': [3, 5, 7],\n",
    "    'learning_rate': [0.01, 0.1, 0.2],\n",
    "    'n_estimators': [100, 200, 500],\n",
    "    'gamma': [0, 0.1, 0.2],\n",
    "    'min_child_weight': [1, 5, 10],\n",
    "    'subsample': [0.5, 0.7, 1.0],\n",
    "    'colsample_bytree': [0.5, 0.7, 1.0]\n",
    "}\n",
    "\n",
    "# Instantiate GridSearchCV with cross-validation\n",
    "grid_search = GridSearchCV(estimator=xgb_classifier, param_grid=param_grid, cv=cv, scoring='accuracy')\n",
    "\n",
    "# Fit GridSearchCV\n",
    "grid_search.fit(predictors_train, stroke_train)\n",
    "\n",
    "# Access the best parameters\n",
    "print(\"Best parameters found:\", grid_search.best_params_)\n",
    "\n",
    "# Access the best score\n",
    "print(\"Best score found:\", grid_search.best_score_)\n",
    "\n",
    "# Use the best estimator to make predictions on the testing data\n",
    "best_xgb = grid_search.best_estimator_\n",
    "stroke_pred = best_xgb.predict(predictors_test)\n",
    "\n",
    "# Evaluate the accuracy of the model\n",
    "accuracy = accuracy_score(stroke_test, stroke_pred)\n",
    "print(\"Accuracy:\", accuracy)"
   ]
  },
  {
   "cell_type": "markdown",
   "id": "ea7baeb9",
   "metadata": {},
   "source": [
    "### Step 2: Recompute accuracy of the optimised model"
   ]
  },
  {
   "cell_type": "code",
   "execution_count": 25,
   "id": "751a82a2",
   "metadata": {
    "scrolled": false
   },
   "outputs": [
    {
     "name": "stdout",
     "output_type": "stream",
     "text": [
      "Accuracy: 0.9460285132382892\n"
     ]
    }
   ],
   "source": [
    "import xgboost as xgb\n",
    "from sklearn.metrics import accuracy_score\n",
    "\n",
    "# Use the best parameters found from GridSearchCV\n",
    "best_params = {\n",
    "    'max_depth': 3,\n",
    "    'learning_rate': 0.01,\n",
    "    'n_estimators': 200,\n",
    "    'gamma': 0,\n",
    "    'subsample': 1.0,\n",
    "    'colsample_bytree': 0.8\n",
    "}\n",
    "\n",
    "# Instantiate XGBoost classifier with the best parameters\n",
    "best_xgb_classifier = xgb.XGBClassifier(**best_params)\n",
    "\n",
    "# Fit the classifier on the training data with the best parameters\n",
    "best_xgb_classifier.fit(predictors_train, stroke_train)\n",
    "\n",
    "# Predict the classes of the test data\n",
    "stroke_pred = best_xgb_classifier.predict(predictors_test)\n",
    "\n",
    "# Evaluate the accuracy of the model\n",
    "accuracy = accuracy_score(stroke_test, stroke_pred)\n",
    "print(\"Accuracy:\", accuracy)\n"
   ]
  },
  {
   "cell_type": "code",
   "execution_count": 26,
   "id": "456ecb2d",
   "metadata": {},
   "outputs": [
    {
     "name": "stdout",
     "output_type": "stream",
     "text": [
      "              precision    recall  f1-score   support\n",
      "\n",
      "           0    0.94603   1.00000   0.97227       929\n",
      "           1    0.00000   0.00000   0.00000        53\n",
      "\n",
      "    accuracy                        0.94603       982\n",
      "   macro avg    0.47301   0.50000   0.48613       982\n",
      "weighted avg    0.89497   0.94603   0.91979       982\n",
      "\n"
     ]
    },
    {
     "data": {
      "image/png": "[encoded data removed]",
      "text/plain": [
       "<Figure size 640x480 with 2 Axes>"
      ]
     },
     "metadata": {},
     "output_type": "display_data"
    }
   ],
   "source": [
    "cm = confusion_matrix(stroke_test, stroke_pred)\n",
    "sb.heatmap(cm, annot=True, cmap='Greens')\n",
    "\n",
    "# Create a classification report\n",
    "cr = classification_report(stroke_test, stroke_pred, digits=5)\n",
    "print(cr)"
   ]
  },
  {
   "cell_type": "code",
   "execution_count": null,
   "id": "3ad283bb",
   "metadata": {},
   "outputs": [],
   "source": []
  }
 ],
 "metadata": {
  "kernelspec": {
   "display_name": "Python 3 (ipykernel)",
   "language": "python",
   "name": "python3"
  },
  "language_info": {
   "codemirror_mode": {
    "name": "ipython",
    "version": 3
   },
   "file_extension": ".py",
   "mimetype": "text/x-python",
   "name": "python",
   "nbconvert_exporter": "python",
   "pygments_lexer": "ipython3",
   "version": "3.11.5"
  }
 },
 "nbformat": 4,
 "nbformat_minor": 5
}
